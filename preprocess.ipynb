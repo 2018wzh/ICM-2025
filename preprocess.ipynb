{
 "cells": [
  {
   "cell_type": "markdown",
   "metadata": {},
   "source": [
    "# 下载数据"
   ]
  },
  {
   "cell_type": "code",
   "execution_count": 12,
   "metadata": {},
   "outputs": [],
   "source": [
    "import osmnx as ox\n",
    "import networkx as nx\n",
    "import pandas as pd"
   ]
  },
  {
   "cell_type": "code",
   "execution_count": 14,
   "metadata": {},
   "outputs": [],
   "source": [
    "bridge = [\n",
    "    (11763173297, 11763173295),\n",
    "    (11763173294, 11763173296),\n",
    "]\n",
    "bridge_nodes = [11763173294, 11763173297]\n",
    "\n",
    "center_location = (39.21732, -76.52815)\n",
    "#center_location = (39.221623,-76.424788)"
   ]
  },
  {
   "cell_type": "code",
   "execution_count": 16,
   "metadata": {},
   "outputs": [
    {
     "name": "stdout",
     "output_type": "stream",
     "text": [
      "Download finish\n",
      "Nodes:88089,Edges:210816\n"
     ]
    }
   ],
   "source": [
    "G_ox = ox.graph_from_point(\n",
    "    center_location, dist=35000, network_type=\"drive\"\n",
    ")  # 从OpenStreetMap下载数据\n",
    "G_nx = nx.DiGraph(G_ox)  # 标准NetworkX有向图\n",
    "# 从OpenStreetMap下载的数据中提取节点和边的信息\n",
    "print(\"Download finish\")\n",
    "nodes, edges = ox.graph_to_gdfs(G_ox)\n",
    "print(\"Nodes:{},Edges:{}\".format(len(nodes), len(edges)))\n",
    "# 存储节点和边的信息\n",
    "nodes.to_csv(\"data/extra/nodes_drive.csv\")\n",
    "edges.to_csv(\"data/extra/edges_drive.csv\")"
   ]
  },
  {
   "cell_type": "markdown",
   "metadata": {},
   "source": [
    "# 进行合并"
   ]
  },
  {
   "cell_type": "code",
   "execution_count": 17,
   "metadata": {},
   "outputs": [
    {
     "name": "stderr",
     "output_type": "stream",
     "text": [
      "C:\\Users\\wzh20\\AppData\\Local\\Temp\\ipykernel_60404\\2228325504.py:1: DtypeWarning: Columns (18) have mixed types. Specify dtype option on import or set low_memory=False.\n",
      "  edges_drive = pd.read_csv('data/edges_drive.csv')\n",
      "C:\\Users\\wzh20\\AppData\\Local\\Temp\\ipykernel_60404\\2228325504.py:3: DtypeWarning: Columns (18) have mixed types. Specify dtype option on import or set low_memory=False.\n",
      "  edges_drive_extra = pd.read_csv('data/extra/edges_drive.csv')\n",
      "C:\\Users\\wzh20\\AppData\\Local\\Temp\\ipykernel_60404\\2228325504.py:4: DtypeWarning: Columns (7) have mixed types. Specify dtype option on import or set low_memory=False.\n",
      "  nodes_drive_extra = pd.read_csv('data/extra/nodes_drive.csv')\n"
     ]
    }
   ],
   "source": [
    "edges_drive = pd.read_csv('data/edges_drive.csv')\n",
    "nodes_drive = pd.read_csv('data/nodes_drive.csv')\n",
    "edges_drive_extra = pd.read_csv('data/extra/edges_drive.csv')\n",
    "nodes_drive_extra = pd.read_csv('data/extra/nodes_drive.csv')\n",
    "# 合并\n",
    "edges_drive = pd.concat([edges_drive, edges_drive_extra])\n",
    "nodes_drive = pd.concat([nodes_drive, nodes_drive_extra])\n",
    "# 去重\n",
    "edges_drive = edges_drive.drop_duplicates()\n",
    "nodes_drive = nodes_drive.drop_duplicates()\n",
    "# 保存\n",
    "edges_drive.to_csv('data/edges_drive_merge.csv', index=False)\n",
    "nodes_drive.to_csv('data/nodes_drive_merge.csv', index=False)"
   ]
  }
 ],
 "metadata": {
  "kernelspec": {
   "display_name": ".conda",
   "language": "python",
   "name": "python3"
  },
  "language_info": {
   "codemirror_mode": {
    "name": "ipython",
    "version": 3
   },
   "file_extension": ".py",
   "mimetype": "text/x-python",
   "name": "python",
   "nbconvert_exporter": "python",
   "pygments_lexer": "ipython3",
   "version": "3.10.16"
  }
 },
 "nbformat": 4,
 "nbformat_minor": 2
}
