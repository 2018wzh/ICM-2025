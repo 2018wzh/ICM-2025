{
 "cells": [
  {
   "cell_type": "markdown",
   "metadata": {},
   "source": [
    "- 读入"
   ]
  },
  {
   "cell_type": "code",
   "execution_count": 12,
   "metadata": {},
   "outputs": [],
   "source": [
    "import pandas as pd"
   ]
  },
  {
   "cell_type": "code",
   "execution_count": 13,
   "metadata": {},
   "outputs": [],
   "source": [
    "bus_routes = pd.read_csv(\"./data/Bus_Routes.csv\")\n",
    "bus_stops = pd.read_csv(\"./data/Bus_Stops.csv\")\n",
    "nodes_all = pd.read_csv(\"./data/nodes_all.csv\")\n",
    "nodes_drive = pd.read_csv(\"./data/nodes_drive.csv\")\n",
    "edges_all = pd.read_csv(\"./data/edges_all.csv\")\n",
    "edges_drive = pd.read_csv(\"./data/edges_drive.csv\")\n",
    "traffic_data = pd.read_csv(\"./data/MDOT_SHA_Annual_Average_Daily_Traffic_Baltimore.csv\")\n",
    "edge_names_with_nodes = pd.read_csv(\"./data/Edge_Names_With_Nodes.csv\")\n",
    "#data_dictionary = pd.read_csv(\"./data/DataDictionary.csv\")"
   ]
  },
  {
   "cell_type": "code",
   "execution_count": 14,
   "metadata": {},
   "outputs": [],
   "source": [
    "nodes_all.fillna('null', inplace=True)\n",
    "nodes_drive.fillna('null', inplace=True)\n",
    "edges_all.fillna('null', inplace=True)\n",
    "edges_drive.fillna('null', inplace=True)\n"
   ]
  },
  {
   "cell_type": "code",
   "execution_count": 15,
   "metadata": {},
   "outputs": [],
   "source": [
    "datasets = {\n",
    "    \"Bus Routes\": bus_routes,\n",
    "    \"Bus Stops\": bus_stops,\n",
    "    \"Nodes All\": nodes_all,\n",
    "    \"Nodes Drive\": nodes_drive,\n",
    "    \"Edges All\": edges_all,\n",
    "    \"Edges Drive\": edges_drive,\n",
    "    \"Traffic Data\": traffic_data,\n",
    "    \"Edge Names with Nodes\": edge_names_with_nodes\n",
    "}\n",
    "\n",
    "for name, dataset in datasets.items():\n",
    "    print(f\"Checking missing values in {name} dataset:\")\n",
    "    missing_values = dataset.isnull().sum()\n",
    "    if missing_values.any():\n",
    "        print(missing_values)\n",
    "    else:\n",
    "        print(\"No missing values.\")\n",
    "    print(\"-\" * 40)\n"
   ]
  },
  {
   "cell_type": "code",
   "execution_count": 16,
   "metadata": {},
   "outputs": [
    {
     "name": "stdout",
     "output_type": "stream",
     "text": [
      "保存 Bus Routes 数据集到 Bus_Routes_New.csv\n",
      "保存 Bus Stops 数据集到 Bus_Stops_New.csv\n",
      "保存 Nodes All 数据集到 Nodes_All_New.csv\n",
      "保存 Nodes Drive 数据集到 Nodes_Drive_New.csv\n",
      "保存 Edges All 数据集到 Edges_All_New.csv\n",
      "保存 Edges Drive 数据集到 Edges_Drive_New.csv\n",
      "保存 Traffic Data 数据集到 Traffic_Data_New.csv\n",
      "保存 Edge Names with Nodes 数据集到 Edge_Names_with_Nodes_New.csv\n"
     ]
    }
   ],
   "source": [
    "datasets = {\n",
    "    \"Bus Routes\": bus_routes,\n",
    "    \"Bus Stops\": bus_stops,\n",
    "    \"Nodes All\": nodes_all,\n",
    "    \"Nodes Drive\": nodes_drive,\n",
    "    \"Edges All\": edges_all,\n",
    "    \"Edges Drive\": edges_drive,\n",
    "    \"Traffic Data\": traffic_data,\n",
    "    \"Edge Names with Nodes\": edge_names_with_nodes\n",
    "}\n",
    "\n",
    "for name, dataset in datasets.items():\n",
    "    file_name = f'dataset/{name.replace(\" \", \"_\")}_New.csv'\n",
    "    dataset.to_csv(file_name, index=False)\n",
    "    print(f\"保存 {name} 数据集到 {file_name}\")"
   ]
  },
  {
   "cell_type": "markdown",
   "metadata": {},
   "source": [
    "\n",
    "### 1. **Bus_Routes.csv**\n",
    "   该数据集包含了巴尔的摩市的公交路线信息。\n",
    "   - **Route_Name**: 公交路线名称，例如 “BALTIMORE - ANNAPOLIS”。\n",
    "   - **Route_Type**: 公交服务类型，如 “MTA Commuter Bus” 或 “MTA Local Bus”。\n",
    "   - **Route_Numb**: 公交路线的编号，如 “Route 22”。\n",
    "   - **Distributi**: 可能表示乘客分布的统计信息，如高峰时间和非高峰时间的乘客分布。\n",
    "   - **Shape__Length**: 路线的长度，单位为 GIS 坐标系统中的长度单位，数值通常在 0.02 到 0.5 之间。\n",
    "\n",
    "### 2. **Bus_Stops.csv**\n",
    "   该数据集提供了公交站点的位置及相关乘客数据。\n",
    "   - **Y** 和 **X**: 分别表示站点的纬度和经度坐标，用于地理定位。\n",
    "   - **stop_name**: 公交站点的名称，如 “CYLBURN AVE & GREENSPRING AVE fs wb”。\n",
    "   - **Rider_On** 和 **Rider_Off**: 乘客上下车的数据，分别表示某站点上车和下车的乘客数量。\n",
    "   - **Rider_Tota**: 该站点总的乘客上下车人数（通常为上车与下车人数的总和）。\n",
    "   - **Routes_Ser**: 服务该站点的公交线路。\n",
    "   - **Mode**: 运输方式，如“Bus”或“Commuter Bus”。\n",
    "   - **Shelter**: 站点是否有庇护设施，“yes”或“no”。\n",
    "   - **County**: 站点所在的县，可能是“Baltimore City”或“Baltimore County”。\n",
    "\n",
    "### 3. **nodes_all.csv & nodes_drive.csv**\n",
    "   这些数据集包含了交通节点的信息，节点是交通网络中的交点或路径的端点。\n",
    "   - **osmid**: 每个节点的唯一标识符。\n",
    "   - **Y** 和 **X**: 分别表示节点的纬度和经度坐标。\n",
    "   - **street_count**: 与该节点连接的街道数量，表示交叉口的复杂性。\n",
    "   - **highway**: 路段类型，如“residential”（住宅区）、“primary”（主路）、“secondary”（次级道路）等。\n",
    "   - **junction**: 描述该节点是否为交叉口及其类型，如环形交叉口。\n",
    "\n",
    "### 4. **edges_all.csv & edges_drive.csv**\n",
    "   这些数据集表示从一个节点到另一个节点的交通路径。\n",
    "   - **u** 和 **v**: 分别是路径的起点和终点节点的 OSM ID。\n",
    "   - **key**: 用于标识同一对节点之间的多条路径。\n",
    "   - **bridge**: 路段是否为桥梁，“yes”或“no”。\n",
    "   - **highway**: 路段类型，如“motorway”（高速公路）或“footway”（人行道）。\n",
    "   - **lanes**: 路段的车道数。\n",
    "   - **maxspeed**: 路段的最高速度限制，单位为 mph（英里每小时）。\n",
    "   - **oneway**: 路段是否是单行道，“true”或“false”。\n",
    "   - **length**: 路段的长度，单位为米。\n",
    "   - **geometry**: 路段的空间表示，通常采用 WKT 或 GeoJSON 格式。\n",
    "\n",
    "### 5. **MDOT_SHA_Annual_Average_Daily_Traffic_Baltimore.csv**\n",
    "   该数据集包含了道路段的交通量数据。\n",
    "   - **node start** 和 **node(s) end**: 标识交通流量统计数据所涵盖的道路段的起点和终点节点。\n",
    "   - **Road Name**: 道路的名称，如“10th St”。\n",
    "   - **AADT (Current)**: 当前年度的年度平均日交通量（AADT），即每日通过某位置的车辆数。\n",
    "   - **AADT Motorcycle, Car, Light Truck, Bus, Single-Unit Truck, Combination-Unit Truck**: 针对不同类型车辆（如摩托车、小型卡车、大型卡车等）的年度平均日交通量。\n",
    "   - **Location Error**: 表示交通统计站点地理位置的误差。\n",
    "\n",
    "### 6. **Edge_Names_With_Nodes.csv**\n",
    "   该数据集将道路名称与节点进行关联，提供了具体道路段的名称和相应节点的信息。\n",
    "   - **Street_Name**: 路段的名称，如“Main Street”或“Broadway”。\n",
    "   - **Nodes**: 该道路段上相关联的节点列表，通常是 OSM ID。\n",
    "\n",
    "### **示例解释**\n",
    "\n",
    "假设在 `Bus_Stops.csv` 中我们有以下一条记录：\n",
    "- **Y**: 39.292\n",
    "- **X**: -76.620\n",
    "- **stop_name**: “CYLBURN AVE & GREENSPRING AVE fs wb”\n",
    "- **Rider_On**: 15\n",
    "- **Rider_Off**: 10\n",
    "- **Rider_Tota**: 25\n",
    "- **Shelter**: “yes”\n",
    "- **County**: “Baltimore City”\n",
    "\n",
    "这表示在坐标 (39.292, -76.620) 处，有一个名为“CYLBURN AVE & GREENSPRING AVE fs wb”的公交站点。在某一时间段内，有15名乘客上车，10名乘客下车，总共有25人次在此站点上下车。此外，该站点提供庇护设施，并且位于巴尔的摩市。\n"
   ]
  }
 ],
 "metadata": {
  "kernelspec": {
   "display_name": "base",
   "language": "python",
   "name": "python3"
  },
  "language_info": {
   "codemirror_mode": {
    "name": "ipython",
    "version": 3
   },
   "file_extension": ".py",
   "mimetype": "text/x-python",
   "name": "python",
   "nbconvert_exporter": "python",
   "pygments_lexer": "ipython3",
   "version": "3.12.4"
  }
 },
 "nbformat": 4,
 "nbformat_minor": 2
}
